{
 "cells": [
  {
   "cell_type": "markdown",
   "metadata": {},
   "source": [
    "# Titanic Data set"
   ]
  },
  {
   "cell_type": "markdown",
   "metadata": {},
   "source": [
    "# Exploratory Data Analysis (EDA)"
   ]
  },
  {
   "cell_type": "code",
   "execution_count": 1,
   "metadata": {
    "collapsed": true
   },
   "outputs": [],
   "source": [
    "import numpy as np\n",
    "import pandas as pd\n",
    "import matplotlib.pyplot as plt\n",
    "import seaborn as sns\n",
    "plt.style.use(\"fivethirtyeight\")\n",
    "import warnings\n",
    "warnings.filterwarnings(\"ignore\")\n",
    "%matplotlib inline"
   ]
  },
  {
   "cell_type": "code",
   "execution_count": 2,
   "metadata": {
    "collapsed": true
   },
   "outputs": [],
   "source": [
    "train = pd.read_csv(\"train.csv\")"
   ]
  },
  {
   "cell_type": "code",
   "execution_count": 3,
   "metadata": {},
   "outputs": [
    {
     "data": {
      "text/plain": [
       "(891, 12)"
      ]
     },
     "execution_count": 3,
     "metadata": {},
     "output_type": "execute_result"
    }
   ],
   "source": [
    "train.shape"
   ]
  },
  {
   "cell_type": "code",
   "execution_count": 4,
   "metadata": {},
   "outputs": [
    {
     "data": {
      "text/html": [
       "<div>\n",
       "<style>\n",
       "    .dataframe thead tr:only-child th {\n",
       "        text-align: right;\n",
       "    }\n",
       "\n",
       "    .dataframe thead th {\n",
       "        text-align: left;\n",
       "    }\n",
       "\n",
       "    .dataframe tbody tr th {\n",
       "        vertical-align: top;\n",
       "    }\n",
       "</style>\n",
       "<table border=\"1\" class=\"dataframe\">\n",
       "  <thead>\n",
       "    <tr style=\"text-align: right;\">\n",
       "      <th></th>\n",
       "      <th>PassengerId</th>\n",
       "      <th>Survived</th>\n",
       "      <th>Pclass</th>\n",
       "      <th>Name</th>\n",
       "      <th>Sex</th>\n",
       "      <th>Age</th>\n",
       "      <th>SibSp</th>\n",
       "      <th>Parch</th>\n",
       "      <th>Ticket</th>\n",
       "      <th>Fare</th>\n",
       "      <th>Cabin</th>\n",
       "      <th>Embarked</th>\n",
       "    </tr>\n",
       "  </thead>\n",
       "  <tbody>\n",
       "    <tr>\n",
       "      <th>0</th>\n",
       "      <td>1</td>\n",
       "      <td>0</td>\n",
       "      <td>3</td>\n",
       "      <td>Braund, Mr. Owen Harris</td>\n",
       "      <td>male</td>\n",
       "      <td>22.0</td>\n",
       "      <td>1</td>\n",
       "      <td>0</td>\n",
       "      <td>A/5 21171</td>\n",
       "      <td>7.2500</td>\n",
       "      <td>NaN</td>\n",
       "      <td>S</td>\n",
       "    </tr>\n",
       "    <tr>\n",
       "      <th>1</th>\n",
       "      <td>2</td>\n",
       "      <td>1</td>\n",
       "      <td>1</td>\n",
       "      <td>Cumings, Mrs. John Bradley (Florence Briggs Th...</td>\n",
       "      <td>female</td>\n",
       "      <td>38.0</td>\n",
       "      <td>1</td>\n",
       "      <td>0</td>\n",
       "      <td>PC 17599</td>\n",
       "      <td>71.2833</td>\n",
       "      <td>C85</td>\n",
       "      <td>C</td>\n",
       "    </tr>\n",
       "    <tr>\n",
       "      <th>2</th>\n",
       "      <td>3</td>\n",
       "      <td>1</td>\n",
       "      <td>3</td>\n",
       "      <td>Heikkinen, Miss. Laina</td>\n",
       "      <td>female</td>\n",
       "      <td>26.0</td>\n",
       "      <td>0</td>\n",
       "      <td>0</td>\n",
       "      <td>STON/O2. 3101282</td>\n",
       "      <td>7.9250</td>\n",
       "      <td>NaN</td>\n",
       "      <td>S</td>\n",
       "    </tr>\n",
       "    <tr>\n",
       "      <th>3</th>\n",
       "      <td>4</td>\n",
       "      <td>1</td>\n",
       "      <td>1</td>\n",
       "      <td>Futrelle, Mrs. Jacques Heath (Lily May Peel)</td>\n",
       "      <td>female</td>\n",
       "      <td>35.0</td>\n",
       "      <td>1</td>\n",
       "      <td>0</td>\n",
       "      <td>113803</td>\n",
       "      <td>53.1000</td>\n",
       "      <td>C123</td>\n",
       "      <td>S</td>\n",
       "    </tr>\n",
       "    <tr>\n",
       "      <th>4</th>\n",
       "      <td>5</td>\n",
       "      <td>0</td>\n",
       "      <td>3</td>\n",
       "      <td>Allen, Mr. William Henry</td>\n",
       "      <td>male</td>\n",
       "      <td>35.0</td>\n",
       "      <td>0</td>\n",
       "      <td>0</td>\n",
       "      <td>373450</td>\n",
       "      <td>8.0500</td>\n",
       "      <td>NaN</td>\n",
       "      <td>S</td>\n",
       "    </tr>\n",
       "  </tbody>\n",
       "</table>\n",
       "</div>"
      ],
      "text/plain": [
       "   PassengerId  Survived  Pclass  \\\n",
       "0            1         0       3   \n",
       "1            2         1       1   \n",
       "2            3         1       3   \n",
       "3            4         1       1   \n",
       "4            5         0       3   \n",
       "\n",
       "                                                Name     Sex   Age  SibSp  \\\n",
       "0                            Braund, Mr. Owen Harris    male  22.0      1   \n",
       "1  Cumings, Mrs. John Bradley (Florence Briggs Th...  female  38.0      1   \n",
       "2                             Heikkinen, Miss. Laina  female  26.0      0   \n",
       "3       Futrelle, Mrs. Jacques Heath (Lily May Peel)  female  35.0      1   \n",
       "4                           Allen, Mr. William Henry    male  35.0      0   \n",
       "\n",
       "   Parch            Ticket     Fare Cabin Embarked  \n",
       "0      0         A/5 21171   7.2500   NaN        S  \n",
       "1      0          PC 17599  71.2833   C85        C  \n",
       "2      0  STON/O2. 3101282   7.9250   NaN        S  \n",
       "3      0            113803  53.1000  C123        S  \n",
       "4      0            373450   8.0500   NaN        S  "
      ]
     },
     "execution_count": 4,
     "metadata": {},
     "output_type": "execute_result"
    }
   ],
   "source": [
    "train.head()"
   ]
  },
  {
   "cell_type": "code",
   "execution_count": 5,
   "metadata": {},
   "outputs": [
    {
     "data": {
      "text/plain": [
       "PassengerId      0\n",
       "Survived         0\n",
       "Pclass           0\n",
       "Name             0\n",
       "Sex              0\n",
       "Age            177\n",
       "SibSp            0\n",
       "Parch            0\n",
       "Ticket           0\n",
       "Fare             0\n",
       "Cabin          687\n",
       "Embarked         2\n",
       "dtype: int64"
      ]
     },
     "execution_count": 5,
     "metadata": {},
     "output_type": "execute_result"
    }
   ],
   "source": [
    "# Checking for total null values \n",
    "train.isnull().sum()"
   ]
  },
  {
   "cell_type": "code",
   "execution_count": 6,
   "metadata": {
    "collapsed": true
   },
   "outputs": [],
   "source": [
    "#Cabin, Age and Embarked have null values\n",
    "#Now fix these columns"
   ]
  },
  {
   "cell_type": "markdown",
   "metadata": {},
   "source": [
    "### How many Survived?"
   ]
  },
  {
   "cell_type": "code",
   "execution_count": 7,
   "metadata": {},
   "outputs": [
    {
     "data": {
      "image/png": "[encoded data removed]",
      "text/plain": [
       "<matplotlib.figure.Figure at 0x21ee3c8e208>"
      ]
     },
     "metadata": {},
     "output_type": "display_data"
    }
   ],
   "source": [
    "# Lets plot the The total percentage and count of the passengers Survied\n",
    "#  and died in Titanic using pie and count plot\n",
    "fig, axes = plt.subplots(1,2, figsize=(18,8))\n",
    "train['Survived'].value_counts().plot.pie(explode= [0,0.1],autopct='%1.1f%%', ax =axes[0],shadow=True)\n",
    "axes[0].set_title('Survived Passengers')\n",
    "axes[0].set_ylabel('')\n",
    "sns.countplot('Survived', data= train, ax= axes[1])\n",
    "axes[1].set_title('Survived Passengers')\n",
    "plt.show()"
   ]
  },
  {
   "cell_type": "markdown",
   "metadata": {},
   "source": [
    "From the above Plot we can easily see that very less amount of people survived in the insident.\n",
    "Only 38 % people survived majority of them died. In the later session we will see that which passenger are survied and do differnt comparisons on different features, i.e. Age, Embarcation, Sex, port etc."
   ]
  },
  {
   "cell_type": "markdown",
   "metadata": {},
   "source": [
    "### Categorical Features"
   ]
  },
  {
   "cell_type": "code",
   "execution_count": 8,
   "metadata": {},
   "outputs": [
    {
     "data": {
      "text/plain": [
       "Sex     Survived\n",
       "female  0            81\n",
       "        1           233\n",
       "male    0           468\n",
       "        1           109\n",
       "Name: Survived, dtype: int64"
      ]
     },
     "execution_count": 8,
     "metadata": {},
     "output_type": "execute_result"
    }
   ],
   "source": [
    "train.groupby(['Sex', 'Survived'])['Survived'].count()"
   ]
  },
  {
   "cell_type": "code",
   "execution_count": 11,
   "metadata": {},
   "outputs": [
    {
     "data": {
      "image/png": "[encoded data removed]",
      "text/plain": [
       "<matplotlib.figure.Figure at 0x21ee6d360b8>"
      ]
     },
     "metadata": {},
     "output_type": "display_data"
    }
   ],
   "source": [
    "fig, ax = plt.subplots(1,2,figsize= (18,8))\n",
    "train[['Sex','Survived']].groupby(['Sex']).mean().plot.bar(ax=ax[0])\n",
    "ax[0].set_title('Survived VS SEX')\n",
    "sns.countplot('Sex',hue='Survived', data=train,ax=ax[1])\n",
    "ax[1].set_title('Sex: Survived VS Dead')\n",
    "plt.show()"
   ]
  },
  {
   "cell_type": "markdown",
   "metadata": {},
   "source": [
    "### Ordinal Features"
   ]
  },
  {
   "cell_type": "code",
   "execution_count": 13,
   "metadata": {},
   "outputs": [
    {
     "data": {
      "text/html": [
       "<style  type=\"text/css\" >\n",
       "    #T_24d188c0_2183_11e8_ae31_782bcbdd06b4row0_col0 {\n",
       "            background-color:  #ffff66;\n",
       "        }    #T_24d188c0_2183_11e8_ae31_782bcbdd06b4row0_col1 {\n",
       "            background-color:  #cee666;\n",
       "        }    #T_24d188c0_2183_11e8_ae31_782bcbdd06b4row0_col2 {\n",
       "            background-color:  #f4fa66;\n",
       "        }    #T_24d188c0_2183_11e8_ae31_782bcbdd06b4row1_col0 {\n",
       "            background-color:  #f6fa66;\n",
       "        }    #T_24d188c0_2183_11e8_ae31_782bcbdd06b4row1_col1 {\n",
       "            background-color:  #ffff66;\n",
       "        }    #T_24d188c0_2183_11e8_ae31_782bcbdd06b4row1_col2 {\n",
       "            background-color:  #ffff66;\n",
       "        }    #T_24d188c0_2183_11e8_ae31_782bcbdd06b4row2_col0 {\n",
       "            background-color:  #60b066;\n",
       "        }    #T_24d188c0_2183_11e8_ae31_782bcbdd06b4row2_col1 {\n",
       "            background-color:  #dfef66;\n",
       "        }    #T_24d188c0_2183_11e8_ae31_782bcbdd06b4row2_col2 {\n",
       "            background-color:  #90c866;\n",
       "        }    #T_24d188c0_2183_11e8_ae31_782bcbdd06b4row3_col0 {\n",
       "            background-color:  #008066;\n",
       "        }    #T_24d188c0_2183_11e8_ae31_782bcbdd06b4row3_col1 {\n",
       "            background-color:  #008066;\n",
       "        }    #T_24d188c0_2183_11e8_ae31_782bcbdd06b4row3_col2 {\n",
       "            background-color:  #008066;\n",
       "        }</style>  \n",
       "<table id=\"T_24d188c0_2183_11e8_ae31_782bcbdd06b4\" > \n",
       "<thead>    <tr> \n",
       "        <th class=\"index_name level0\" >Survived</th> \n",
       "        <th class=\"col_heading level0 col0\" >0</th> \n",
       "        <th class=\"col_heading level0 col1\" >1</th> \n",
       "        <th class=\"col_heading level0 col2\" >All</th> \n",
       "    </tr>    <tr> \n",
       "        <th class=\"index_name level0\" >Pclass</th> \n",
       "        <th class=\"blank\" ></th> \n",
       "        <th class=\"blank\" ></th> \n",
       "        <th class=\"blank\" ></th> \n",
       "    </tr></thead> \n",
       "<tbody>    <tr> \n",
       "        <th id=\"T_24d188c0_2183_11e8_ae31_782bcbdd06b4level0_row0\" class=\"row_heading level0 row0\" >1</th> \n",
       "        <td id=\"T_24d188c0_2183_11e8_ae31_782bcbdd06b4row0_col0\" class=\"data row0 col0\" >80</td> \n",
       "        <td id=\"T_24d188c0_2183_11e8_ae31_782bcbdd06b4row0_col1\" class=\"data row0 col1\" >136</td> \n",
       "        <td id=\"T_24d188c0_2183_11e8_ae31_782bcbdd06b4row0_col2\" class=\"data row0 col2\" >216</td> \n",
       "    </tr>    <tr> \n",
       "        <th id=\"T_24d188c0_2183_11e8_ae31_782bcbdd06b4level0_row1\" class=\"row_heading level0 row1\" >2</th> \n",
       "        <td id=\"T_24d188c0_2183_11e8_ae31_782bcbdd06b4row1_col0\" class=\"data row1 col0\" >97</td> \n",
       "        <td id=\"T_24d188c0_2183_11e8_ae31_782bcbdd06b4row1_col1\" class=\"data row1 col1\" >87</td> \n",
       "        <td id=\"T_24d188c0_2183_11e8_ae31_782bcbdd06b4row1_col2\" class=\"data row1 col2\" >184</td> \n",
       "    </tr>    <tr> \n",
       "        <th id=\"T_24d188c0_2183_11e8_ae31_782bcbdd06b4level0_row2\" class=\"row_heading level0 row2\" >3</th> \n",
       "        <td id=\"T_24d188c0_2183_11e8_ae31_782bcbdd06b4row2_col0\" class=\"data row2 col0\" >372</td> \n",
       "        <td id=\"T_24d188c0_2183_11e8_ae31_782bcbdd06b4row2_col1\" class=\"data row2 col1\" >119</td> \n",
       "        <td id=\"T_24d188c0_2183_11e8_ae31_782bcbdd06b4row2_col2\" class=\"data row2 col2\" >491</td> \n",
       "    </tr>    <tr> \n",
       "        <th id=\"T_24d188c0_2183_11e8_ae31_782bcbdd06b4level0_row3\" class=\"row_heading level0 row3\" >All</th> \n",
       "        <td id=\"T_24d188c0_2183_11e8_ae31_782bcbdd06b4row3_col0\" class=\"data row3 col0\" >549</td> \n",
       "        <td id=\"T_24d188c0_2183_11e8_ae31_782bcbdd06b4row3_col1\" class=\"data row3 col1\" >342</td> \n",
       "        <td id=\"T_24d188c0_2183_11e8_ae31_782bcbdd06b4row3_col2\" class=\"data row3 col2\" >891</td> \n",
       "    </tr></tbody> \n",
       "</table> "
      ],
      "text/plain": [
       "<pandas.io.formats.style.Styler at 0x21ee61cf978>"
      ]
     },
     "execution_count": 13,
     "metadata": {},
     "output_type": "execute_result"
    }
   ],
   "source": [
    "pd.crosstab(train.Pclass,train.Survived, margins=True).style.background_gradient(cmap='summer_r')"
   ]
  },
  {
   "cell_type": "code",
   "execution_count": 20,
   "metadata": {},
   "outputs": [
    {
     "data": {
      "image/png": "[encoded data removed]",
      "text/plain": [
       "<matplotlib.figure.Figure at 0x21ee7c52be0>"
      ]
     },
     "metadata": {},
     "output_type": "display_data"
    }
   ],
   "source": [
    "fig , ax = plt.subplots(1,2, figsize = (18,8))\n",
    "train['Pclass'].value_counts().plot.bar(color= ['#CD7F32','#FFDF00','#D3D3D3'],ax=ax[0])\n",
    "ax[0].set_title('Number of Passengers by PClass')\n",
    "ax[0].set_ylabel('Count')\n",
    "sns.countplot('Pclass', hue='Survived', data = train, ax=ax[1])\n",
    "ax[1].set_title('PClass: Survived VS Dead')\n",
    "plt.show()"
   ]
  },
  {
   "cell_type": "markdown",
   "metadata": {},
   "source": [
    "As we can see clearly from the Plot that the people with Class 1 #tag buisness class have greater survival rate whereas the number of passengers in class  is very less as compared to Third Class.\n"
   ]
  },
  {
   "cell_type": "code",
   "execution_count": 22,
   "metadata": {},
   "outputs": [
    {
     "data": {
      "text/html": [
       "<style  type=\"text/css\" >\n",
       "    #T_c0935aa4_2184_11e8_8deb_782bcbdd06b4row0_col0 {\n",
       "            background-color:  #ffff66;\n",
       "        }    #T_c0935aa4_2184_11e8_8deb_782bcbdd06b4row0_col1 {\n",
       "            background-color:  #ffff66;\n",
       "        }    #T_c0935aa4_2184_11e8_8deb_782bcbdd06b4row0_col2 {\n",
       "            background-color:  #f1f866;\n",
       "        }    #T_c0935aa4_2184_11e8_8deb_782bcbdd06b4row0_col3 {\n",
       "            background-color:  #ffff66;\n",
       "        }    #T_c0935aa4_2184_11e8_8deb_782bcbdd06b4row1_col0 {\n",
       "            background-color:  #96cb66;\n",
       "        }    #T_c0935aa4_2184_11e8_8deb_782bcbdd06b4row1_col1 {\n",
       "            background-color:  #a3d166;\n",
       "        }    #T_c0935aa4_2184_11e8_8deb_782bcbdd06b4row1_col2 {\n",
       "            background-color:  #f1f866;\n",
       "        }    #T_c0935aa4_2184_11e8_8deb_782bcbdd06b4row1_col3 {\n",
       "            background-color:  #cfe766;\n",
       "        }    #T_c0935aa4_2184_11e8_8deb_782bcbdd06b4row2_col0 {\n",
       "            background-color:  #a7d366;\n",
       "        }    #T_c0935aa4_2184_11e8_8deb_782bcbdd06b4row2_col1 {\n",
       "            background-color:  #85c266;\n",
       "        }    #T_c0935aa4_2184_11e8_8deb_782bcbdd06b4row2_col2 {\n",
       "            background-color:  #6eb666;\n",
       "        }    #T_c0935aa4_2184_11e8_8deb_782bcbdd06b4row2_col3 {\n",
       "            background-color:  #85c266;\n",
       "        }    #T_c0935aa4_2184_11e8_8deb_782bcbdd06b4row3_col0 {\n",
       "            background-color:  #cde666;\n",
       "        }    #T_c0935aa4_2184_11e8_8deb_782bcbdd06b4row3_col1 {\n",
       "            background-color:  #f0f866;\n",
       "        }    #T_c0935aa4_2184_11e8_8deb_782bcbdd06b4row3_col2 {\n",
       "            background-color:  #ffff66;\n",
       "        }    #T_c0935aa4_2184_11e8_8deb_782bcbdd06b4row3_col3 {\n",
       "            background-color:  #f7fb66;\n",
       "        }    #T_c0935aa4_2184_11e8_8deb_782bcbdd06b4row4_col0 {\n",
       "            background-color:  #008066;\n",
       "        }    #T_c0935aa4_2184_11e8_8deb_782bcbdd06b4row4_col1 {\n",
       "            background-color:  #008066;\n",
       "        }    #T_c0935aa4_2184_11e8_8deb_782bcbdd06b4row4_col2 {\n",
       "            background-color:  #008066;\n",
       "        }    #T_c0935aa4_2184_11e8_8deb_782bcbdd06b4row4_col3 {\n",
       "            background-color:  #008066;\n",
       "        }</style>  \n",
       "<table id=\"T_c0935aa4_2184_11e8_8deb_782bcbdd06b4\" > \n",
       "<thead>    <tr> \n",
       "        <th class=\"blank\" ></th> \n",
       "        <th class=\"index_name level0\" >Pclass</th> \n",
       "        <th class=\"col_heading level0 col0\" >1</th> \n",
       "        <th class=\"col_heading level0 col1\" >2</th> \n",
       "        <th class=\"col_heading level0 col2\" >3</th> \n",
       "        <th class=\"col_heading level0 col3\" >All</th> \n",
       "    </tr>    <tr> \n",
       "        <th class=\"index_name level0\" >Sex</th> \n",
       "        <th class=\"index_name level1\" >Survived</th> \n",
       "        <th class=\"blank\" ></th> \n",
       "        <th class=\"blank\" ></th> \n",
       "        <th class=\"blank\" ></th> \n",
       "        <th class=\"blank\" ></th> \n",
       "    </tr></thead> \n",
       "<tbody>    <tr> \n",
       "        <th id=\"T_c0935aa4_2184_11e8_8deb_782bcbdd06b4level0_row0\" class=\"row_heading level0 row0\" rowspan=2>female</th> \n",
       "        <th id=\"T_c0935aa4_2184_11e8_8deb_782bcbdd06b4level1_row0\" class=\"row_heading level1 row0\" >0</th> \n",
       "        <td id=\"T_c0935aa4_2184_11e8_8deb_782bcbdd06b4row0_col0\" class=\"data row0 col0\" >3</td> \n",
       "        <td id=\"T_c0935aa4_2184_11e8_8deb_782bcbdd06b4row0_col1\" class=\"data row0 col1\" >6</td> \n",
       "        <td id=\"T_c0935aa4_2184_11e8_8deb_782bcbdd06b4row0_col2\" class=\"data row0 col2\" >72</td> \n",
       "        <td id=\"T_c0935aa4_2184_11e8_8deb_782bcbdd06b4row0_col3\" class=\"data row0 col3\" >81</td> \n",
       "    </tr>    <tr> \n",
       "        <th id=\"T_c0935aa4_2184_11e8_8deb_782bcbdd06b4level1_row1\" class=\"row_heading level1 row1\" >1</th> \n",
       "        <td id=\"T_c0935aa4_2184_11e8_8deb_782bcbdd06b4row1_col0\" class=\"data row1 col0\" >91</td> \n",
       "        <td id=\"T_c0935aa4_2184_11e8_8deb_782bcbdd06b4row1_col1\" class=\"data row1 col1\" >70</td> \n",
       "        <td id=\"T_c0935aa4_2184_11e8_8deb_782bcbdd06b4row1_col2\" class=\"data row1 col2\" >72</td> \n",
       "        <td id=\"T_c0935aa4_2184_11e8_8deb_782bcbdd06b4row1_col3\" class=\"data row1 col3\" >233</td> \n",
       "    </tr>    <tr> \n",
       "        <th id=\"T_c0935aa4_2184_11e8_8deb_782bcbdd06b4level0_row2\" class=\"row_heading level0 row2\" rowspan=2>male</th> \n",
       "        <th id=\"T_c0935aa4_2184_11e8_8deb_782bcbdd06b4level1_row2\" class=\"row_heading level1 row2\" >0</th> \n",
       "        <td id=\"T_c0935aa4_2184_11e8_8deb_782bcbdd06b4row2_col0\" class=\"data row2 col0\" >77</td> \n",
       "        <td id=\"T_c0935aa4_2184_11e8_8deb_782bcbdd06b4row2_col1\" class=\"data row2 col1\" >91</td> \n",
       "        <td id=\"T_c0935aa4_2184_11e8_8deb_782bcbdd06b4row2_col2\" class=\"data row2 col2\" >300</td> \n",
       "        <td id=\"T_c0935aa4_2184_11e8_8deb_782bcbdd06b4row2_col3\" class=\"data row2 col3\" >468</td> \n",
       "    </tr>    <tr> \n",
       "        <th id=\"T_c0935aa4_2184_11e8_8deb_782bcbdd06b4level1_row3\" class=\"row_heading level1 row3\" >1</th> \n",
       "        <td id=\"T_c0935aa4_2184_11e8_8deb_782bcbdd06b4row3_col0\" class=\"data row3 col0\" >45</td> \n",
       "        <td id=\"T_c0935aa4_2184_11e8_8deb_782bcbdd06b4row3_col1\" class=\"data row3 col1\" >17</td> \n",
       "        <td id=\"T_c0935aa4_2184_11e8_8deb_782bcbdd06b4row3_col2\" class=\"data row3 col2\" >47</td> \n",
       "        <td id=\"T_c0935aa4_2184_11e8_8deb_782bcbdd06b4row3_col3\" class=\"data row3 col3\" >109</td> \n",
       "    </tr>    <tr> \n",
       "        <th id=\"T_c0935aa4_2184_11e8_8deb_782bcbdd06b4level0_row4\" class=\"row_heading level0 row4\" >All</th> \n",
       "        <th id=\"T_c0935aa4_2184_11e8_8deb_782bcbdd06b4level1_row4\" class=\"row_heading level1 row4\" ></th> \n",
       "        <td id=\"T_c0935aa4_2184_11e8_8deb_782bcbdd06b4row4_col0\" class=\"data row4 col0\" >216</td> \n",
       "        <td id=\"T_c0935aa4_2184_11e8_8deb_782bcbdd06b4row4_col1\" class=\"data row4 col1\" >184</td> \n",
       "        <td id=\"T_c0935aa4_2184_11e8_8deb_782bcbdd06b4row4_col2\" class=\"data row4 col2\" >491</td> \n",
       "        <td id=\"T_c0935aa4_2184_11e8_8deb_782bcbdd06b4row4_col3\" class=\"data row4 col3\" >891</td> \n",
       "    </tr></tbody> \n",
       "</table> "
      ],
      "text/plain": [
       "<pandas.io.formats.style.Styler at 0x21ee701b198>"
      ]
     },
     "execution_count": 22,
     "metadata": {},
     "output_type": "execute_result"
    }
   ],
   "source": [
    "pd.crosstab([train.Sex, train.Survived], train.Pclass, margins=True).style.background_gradient(cmap='summer_r')"
   ]
  },
  {
   "cell_type": "code",
   "execution_count": 23,
   "metadata": {},
   "outputs": [
    {
     "data": {
      "image/png": "[encoded data removed]",
      "text/plain": [
       "<matplotlib.figure.Figure at 0x21ee7023828>"
      ]
     },
     "metadata": {},
     "output_type": "display_data"
    }
   ],
   "source": [
    "sns.factorplot('Pclass', 'Survived', hue='Sex', data=train)\n",
    "plt.show()"
   ]
  },
  {
   "cell_type": "markdown",
   "metadata": {},
   "source": [
    " Looking at the Factorplot and CrossTab, we can see that the Survival rate f the womens are grater than the men. The thing to note here is the Survival rate of the women at PClass1 is aroung 96 %.\n",
    " It is also evident that in the resue operation womens are given the first pirority. Even men from the PClass1 has a very low Survival rate as compared to PClass1 Women.\n",
    "    "
   ]
  },
  {
   "cell_type": "markdown",
   "metadata": {},
   "source": [
    "### Continuous Features"
   ]
  },
  {
   "cell_type": "code",
   "execution_count": 27,
   "metadata": {},
   "outputs": [
    {
     "name": "stdout",
     "output_type": "stream",
     "text": [
      "Oldest passenger is: 80.0 Years old\n",
      "Youngest Passenger is:  0.42 Years old\n",
      "Average age of the people: 29.69911764705882 Years\n"
     ]
    }
   ],
   "source": [
    "print ('Oldest passenger is:', train['Age'].max(), 'Years old')\n",
    "print ('Youngest Passenger is: ', train['Age'].min(), 'Years old')\n",
    "print ('Average age of the people:', train['Age'].mean(), 'Years')"
   ]
  },
  {
   "cell_type": "code",
   "execution_count": null,
   "metadata": {
    "collapsed": true
   },
   "outputs": [],
   "source": []
  }
 ],
 "metadata": {
  "kernelspec": {
   "display_name": "Python 3",
   "language": "python",
   "name": "python3"
  },
  "language_info": {
   "codemirror_mode": {
    "name": "ipython",
    "version": 3
   },
   "file_extension": ".py",
   "mimetype": "text/x-python",
   "name": "python",
   "nbconvert_exporter": "python",
   "pygments_lexer": "ipython3",
   "version": "3.6.2"
  }
 },
 "nbformat": 4,
 "nbformat_minor": 2
}
